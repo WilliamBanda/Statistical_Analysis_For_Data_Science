{
  "nbformat": 4,
  "nbformat_minor": 0,
  "metadata": {
    "colab": {
      "provenance": [],
      "authorship_tag": "ABX9TyOGoisQDX2vFqdabOUXRNxh",
      "include_colab_link": true
    },
    "kernelspec": {
      "name": "python3",
      "display_name": "Python 3"
    },
    "language_info": {
      "name": "python"
    }
  },
  "cells": [
    {
      "cell_type": "markdown",
      "metadata": {
        "id": "view-in-github",
        "colab_type": "text"
      },
      "source": [
        "<a href=\"https://colab.research.google.com/github/WilliamBanda/Statistical_Analysis_For_Data_Science/blob/main/Food_Affordability_Report.ipynb\" target=\"_parent\"><img src=\"https://colab.research.google.com/assets/colab-badge.svg\" alt=\"Open In Colab\"/></a>"
      ]
    },
    {
      "cell_type": "markdown",
      "source": [
        "# A STATISTICAL ANALYSIS REPORT FOR FOOD AFFORDABILITY IN CALIFORNIA"
      ],
      "metadata": {
        "id": "3MkalpxXmrc1"
      }
    },
    {
      "cell_type": "markdown",
      "source": [
        "# 1. Background"
      ],
      "metadata": {
        "id": "8iADj_b_tgiH"
      }
    },
    {
      "cell_type": "markdown",
      "source": [
        "Introducton: Food affordability is a critical aspect of assessing the well-being and socio-economic conditions of individuals and households. An adequate, nutritious diet is a necessity at all stages of life. Pregnant women and their developing babies, children, adolescents, adults, and older adults depend on adequate nutrition for optimum development and maintenance of health and functioning(reference).  In the state of California, a diverse region with various racial and ethnic groups, understanding the disparities in food affordability across different cities and racial groups is crucial for informing policies and interventions aimed at improving food security.\n",
        "\n",
        "Statistical Analysis Context: California is known for its cultural diversity and has a significant population of different racial and ethnic groups. It is also home to diverse urban and rural areas, each with its unique characteristics and economic disparities. The cost of living, including food costs, can widely vary across different cities within the state. Furthermore, household income levels and expenditure patterns may differ significantly among racial groups, influencing their ability to afford adequate and nutritious food. It is believed that atleast two factors influence the affordability of food and the dietary choices of families and these are the cost of food and family income.\n",
        "\n",
        "Statistical Objectives/Questions to be answered:\n",
        "1. What is the average monthly expenditure on food across different racial groups in California?\n",
        "2. Is there a significant difference in food affordability between different racial groups in California?\n",
        "3. Which racial group in California has the highest and lowest proportion of household income spent on food?\n",
        "4. Is there a correlation between the median household income and the average cost of groceries in different cities in California?\n",
        "\n"
      ],
      "metadata": {
        "id": "ldUdqGhvt73Z"
      }
    }
  ]
}